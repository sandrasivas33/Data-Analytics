{
 "cells": [
  {
   "cell_type": "markdown",
   "id": "73a2939a-8faa-4f89-b329-5e7e2e3d2e5d",
   "metadata": {},
   "source": [
    "NOTEPAD USING TKINTER"
   ]
  },
  {
   "cell_type": "code",
   "execution_count": 1,
   "id": "2685149f-d703-45d5-83f2-d91d0c05b39e",
   "metadata": {},
   "outputs": [],
   "source": [
    "import tkinter as tk\n",
    "from tkinter import filedialog, messagebox\n",
    "from tkinter import scrolledtext\n",
    "\n",
    "def new_file():\n",
    "    text_area.delete(1.0, tk.END)\n",
    "\n",
    "def open_file():\n",
    "    file_path = filedialog.askopenfilename(defaultextension=\".txt\",\n",
    "                                           filetypes=[(\"Text Documents\", \"*.txt\"), (\"All Files\", \"*.*\")])\n",
    "    if file_path:\n",
    "        try:\n",
    "            with open(file_path, \"r\") as file:\n",
    "                text_area.delete(1.0, tk.END)\n",
    "                text_area.insert(tk.END, file.read())\n",
    "        except Exception as e:\n",
    "            messagebox.showerror(\"Error\", f\"Could not read file:\\n{e}\")\n",
    "\n",
    "def save_file():\n",
    "    file_path = filedialog.asksaveasfilename(defaultextension=\".txt\",\n",
    "                                             filetypes=[(\"Text Documents\", \"*.txt\"), (\"All Files\", \"*.*\")])\n",
    "    if file_path:\n",
    "        try:\n",
    "            with open(file_path, \"w\") as file:\n",
    "                file.write(text_area.get(1.0, tk.END))\n",
    "        except Exception as e:\n",
    "            messagebox.showerror(\"Error\", f\"Could not save file:\\n{e}\")\n",
    "\n",
    "def exit_app():\n",
    "    root.quit()\n",
    "\n",
    "# Create main window\n",
    "root = tk.Tk()\n",
    "root.title(\"Notepad\")\n",
    "root.geometry(\"700x500\")\n",
    "\n",
    "# Create menu\n",
    "menu_bar = tk.Menu(root)\n",
    "file_menu = tk.Menu(menu_bar, tearoff=0)\n",
    "file_menu.add_command(label=\"New\", command=new_file)\n",
    "file_menu.add_command(label=\"Open\", command=open_file)\n",
    "file_menu.add_command(label=\"Save\", command=save_file)\n",
    "file_menu.add_separator()\n",
    "file_menu.add_command(label=\"Exit\", command=exit_app)\n",
    "menu_bar.add_cascade(label=\"File\", menu=file_menu)\n",
    "\n",
    "root.config(menu=menu_bar)\n",
    "\n",
    "# Create text area with scroll bar\n",
    "text_area = scrolledtext.ScrolledText(root, wrap=tk.WORD, font=(\"Arial\", 12))\n",
    "text_area.pack(fill=tk.BOTH, expand=1)\n",
    "\n",
    "# Run the application\n",
    "root.mainloop()\n"
   ]
  },
  {
   "cell_type": "code",
   "execution_count": null,
   "id": "6ff93e17-dbd2-4385-b7d3-c12eb607bb4d",
   "metadata": {},
   "outputs": [],
   "source": []
  }
 ],
 "metadata": {
  "kernelspec": {
   "display_name": "Python 3 (ipykernel)",
   "language": "python",
   "name": "python3"
  },
  "language_info": {
   "codemirror_mode": {
    "name": "ipython",
    "version": 3
   },
   "file_extension": ".py",
   "mimetype": "text/x-python",
   "name": "python",
   "nbconvert_exporter": "python",
   "pygments_lexer": "ipython3",
   "version": "3.12.7"
  }
 },
 "nbformat": 4,
 "nbformat_minor": 5
}
