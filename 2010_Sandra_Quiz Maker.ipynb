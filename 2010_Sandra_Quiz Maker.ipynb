{
 "cells": [
  {
   "cell_type": "code",
   "execution_count": 4,
   "metadata": {},
   "outputs": [],
   "source": [
    "import tkinter as tk\n",
    "from tkinter import messagebox\n",
    "\n",
    "# Sample Quiz Data\n",
    "quiz = [\n",
    "    {\"question\": \"Which planet is known as the Red Planet?\", \"options\": [\"Earth\", \"Venus\", \"Mars\", \"Jupiter\"], \"answer\": \"Mars\"},\n",
    "    {\"question\": \"Who wrote 'Romeo and Juliet'?\", \"options\": [\"Mark Twain\", \"William Shakespeare\", \"Charles Dickens\", \"Jane Austen\"], \"answer\": \"William Shakespeare\"},\n",
    "    {\"question\": \"What is the boiling point of water at sea level?\", \"options\": [\"100°C\", \"90°C\", \"80°C\", \"120°C\"], \"answer\": \"100°C\"},\n",
    "    {\"question\": \"What is the currency of Japan?\", \"options\": [\"Dollar\", \"Euro\", \"Yen\", \"Won\"], \"answer\": \"Yen\"},\n",
    "    {\"question\": \"Which organ is responsible for pumping blood?\", \"options\": [\"Lungs\", \"Brain\", \"Liver\", \"Heart\"], \"answer\": \"Heart\"}\n",
    "]\n"
   ]
  },
  {
   "cell_type": "code",
   "execution_count": 5,
   "metadata": {},
   "outputs": [],
   "source": [
    "class QuestionPaperApp:\n",
    "    def __init__(self, root):\n",
    "        self.root = root\n",
    "        self.root.title(\"Quiz - Question Paper Mode\")\n",
    "        self.answers = []\n",
    "\n",
    "        # Scrollable Canvas\n",
    "        canvas = tk.Canvas(root)\n",
    "        scrollbar = tk.Scrollbar(root, orient=\"vertical\", command=canvas.yview)\n",
    "        self.scrollable_frame = tk.Frame(canvas)\n",
    "\n",
    "        self.scrollable_frame.bind(\n",
    "            \"<Configure>\",\n",
    "            lambda e: canvas.configure(\n",
    "                scrollregion=canvas.bbox(\"all\")\n",
    "            )\n",
    "        )\n",
    "\n",
    "        canvas.create_window((0, 0), window=self.scrollable_frame, anchor=\"nw\")\n",
    "        canvas.configure(yscrollcommand=scrollbar.set)\n",
    "\n",
    "        canvas.pack(side=\"left\", fill=\"both\", expand=True)\n",
    "        scrollbar.pack(side=\"right\", fill=\"y\")\n",
    "\n",
    "        \n",
    "        for index, q in enumerate(quiz):\n",
    "            frame = tk.Frame(self.scrollable_frame, pady=10)\n",
    "            frame.pack(fill=\"x\", padx=10)\n",
    "\n",
    "            tk.Label(frame, text=f\"Q{index+1}. {q['question']}\", font=(\"Arial\", 14), wraplength=600, justify=\"left\").pack(anchor=\"w\")\n",
    "\n",
    "            var = tk.StringVar(value=\"\") \n",
    "            var.set(\"none\")\n",
    "            self.answers.append(var)\n",
    "\n",
    "            for option in q[\"options\"]:\n",
    "                tk.Radiobutton(frame, text=option, variable=var, value=option, font=(\"Arial\", 12)).pack(anchor=\"w\")\n",
    "\n",
    "        \n",
    "        submit_btn = tk.Button(self.scrollable_frame, text=\"Submit Quiz\", font=(\"Arial\", 14, \"bold\"), bg=\"green\", fg=\"white\", command=self.evaluate)\n",
    "        submit_btn.pack(pady=20)\n",
    "\n",
    "    def evaluate(self):\n",
    "        score = 0\n",
    "        total = len(quiz)\n",
    "\n",
    "        \n",
    "        for i, q in enumerate(quiz):\n",
    "            selected = self.answers[i].get()\n",
    "            if selected == \"\":\n",
    "                messagebox.showwarning(\"Incomplete\", f\"⚠️ You missed Question {i+1}. Please answer all questions before submitting.\")\n",
    "                return\n",
    "            if selected == q[\"answer\"]:\n",
    "                score += 1\n",
    "\n",
    "      \n",
    "        messagebox.showinfo(\"Quiz Completed\", f\"🎉 You scored {score} out of {total}!\")\n",
    "        self.root.destroy()  "
   ]
  },
  {
   "cell_type": "code",
   "execution_count": 7,
   "metadata": {},
   "outputs": [],
   "source": [
    "root = tk.Tk()\n",
    "root.geometry(\"800x800\")  # Window size\n",
    "app = QuestionPaperApp(root)\n",
    "root.mainloop()"
   ]
  },
  {
   "cell_type": "markdown",
   "metadata": {},
   "source": [
    "***"
   ]
  },
  {
   "cell_type": "markdown",
   "metadata": {},
   "source": [
    "# <center><a href = \"http://edure.in/\"><span style = \"color:CornflowerBlue; font-family:Courier New;font-size:40px\">EDURE LEARNING</span></a></center>"
   ]
  }
 ],
 "metadata": {
  "kernelspec": {
   "display_name": "Python 3 (ipykernel)",
   "language": "python",
   "name": "python3"
  },
  "language_info": {
   "codemirror_mode": {
    "name": "ipython",
    "version": 3
   },
   "file_extension": ".py",
   "mimetype": "text/x-python",
   "name": "python",
   "nbconvert_exporter": "python",
   "pygments_lexer": "ipython3",
   "version": "3.12.7"
  }
 },
 "nbformat": 4,
 "nbformat_minor": 4
}
