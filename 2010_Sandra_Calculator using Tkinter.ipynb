{
 "cells": [
  {
   "cell_type": "code",
   "execution_count": 14,
   "id": "981c576a-d7bc-4f97-b253-710df5021b21",
   "metadata": {},
   "outputs": [],
   "source": [
    "import tkinter as tk\n",
    "\n",
    "# Function to handle button click\n",
    "def click(event):\n",
    "    text = event.widget[\"text\"]\n",
    "    current = screen.get()\n",
    "\n",
    "    if text == \"=\":\n",
    "        try:\n",
    "            result = str(eval(current))\n",
    "            screen.delete(0, tk.END)\n",
    "            screen.insert(0, result)\n",
    "        except Exception:\n",
    "            screen.delete(0, tk.END)\n",
    "            screen.insert(0, \"Error\")\n",
    "\n",
    "    elif text == \"AC\":\n",
    "        screen.delete(0, tk.END)\n",
    "\n",
    "    elif text == \"C\":\n",
    "        screen.delete(len(current)-1, tk.END)\n",
    "\n",
    "    else:\n",
    "        screen.insert(tk.END, text)\n",
    "\n",
    "# Create main window\n",
    "root = tk.Tk()\n",
    "root.title(\"Simple Calculator\")\n",
    "root.geometry(\"300x420\")\n",
    "root.resizable(False, False)\n",
    "\n",
    "# Entry field\n",
    "screen = tk.Entry(root, font=\"Arial 20\", borderwidth=5, relief=tk.RIDGE, justify='right')\n",
    "screen.pack(fill=tk.BOTH, ipadx=8, pady=10, padx=10)\n",
    "\n",
    "# Frame for buttons\n",
    "button_frame = tk.Frame(root)\n",
    "button_frame.pack()\n",
    "\n",
    "# Updated button layout (including AC and C)\n",
    "buttons = [\n",
    "    ['AC', 'C', '', '/'],\n",
    "    ['7', '8', '9', '*'],\n",
    "    ['4', '5', '6', '-'],\n",
    "    ['1', '2', '3', '+'],\n",
    "    ['0', '.', '=', '']\n",
    "]\n",
    "\n",
    "# Create and place buttons\n",
    "for row in buttons:\n",
    "    frame = tk.Frame(button_frame)\n",
    "    frame.pack(expand=True, fill='both')\n",
    "    for btn in row:\n",
    "        if btn != '':\n",
    "            button = tk.Button(frame, text=btn, font=\"Arial 18\", relief=tk.RAISED, borderwidth=2)\n",
    "            button.pack(side=tk.LEFT, expand=True, fill='both', padx=2, pady=2)\n",
    "            button.bind(\"<Button-1>\", click)\n",
    "        else:\n",
    "            # Empty placeholder (for layout symmetry)\n",
    "            tk.Label(frame, text=\"\", font=\"Arial 18\").pack(side=tk.LEFT, expand=True, fill='both', padx=2, pady=2)\n",
    "\n",
    "\n"
   ]
  },
  {
   "cell_type": "code",
   "execution_count": null,
   "id": "16e6b3fa-87f3-463f-b872-ca166313da40",
   "metadata": {},
   "outputs": [],
   "source": [
    "root.mainloop()"
   ]
  },
  {
   "cell_type": "code",
   "execution_count": null,
   "id": "5e4fe7c9-65f8-45ba-9ba2-f6b454e2e994",
   "metadata": {},
   "outputs": [],
   "source": []
  }
 ],
 "metadata": {
  "kernelspec": {
   "display_name": "Python 3 (ipykernel)",
   "language": "python",
   "name": "python3"
  },
  "language_info": {
   "codemirror_mode": {
    "name": "ipython",
    "version": 3
   },
   "file_extension": ".py",
   "mimetype": "text/x-python",
   "name": "python",
   "nbconvert_exporter": "python",
   "pygments_lexer": "ipython3",
   "version": "3.12.7"
  }
 },
 "nbformat": 4,
 "nbformat_minor": 5
}
